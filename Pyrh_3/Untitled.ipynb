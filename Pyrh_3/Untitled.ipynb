{
 "cells": [
  {
   "cell_type": "markdown",
   "metadata": {},
   "source": [
    "## 4"
   ]
  },
  {
   "cell_type": "code",
   "execution_count": 107,
   "metadata": {},
   "outputs": [
    {
     "name": "stdout",
     "output_type": "stream",
     "text": [
      "('vk', 120)\n"
     ]
    }
   ],
   "source": [
    "stats = {'facebook': 55, 'yandex': 115, 'vk': 120, 'google': 99, 'email': 42, 'ok': 98}\n",
    "\n",
    "list_stats = list(stats.items()) #transport to list with tuples\n",
    "list_stats.sort(key = lambda i: i[1])\n",
    "print (list_stats[-1])\n"
   ]
  },
  {
   "cell_type": "markdown",
   "metadata": {},
   "source": [
    "## 3"
   ]
  },
  {
   "cell_type": "code",
   "execution_count": 108,
   "metadata": {},
   "outputs": [
    {
     "name": "stdout",
     "output_type": "stream",
     "text": [
      "vk {'revenue': 103, 'cost': 98, 'ROI': 5.1}\n",
      "yandex {'revenue': 179, 'cost': 153, 'ROI': 16.99}\n",
      "facebook {'revenue': 103, 'cost': 110, 'ROI': -6.36}\n",
      "adwords {'revenue': 35, 'cost': 34, 'ROI': 2.94}\n",
      "twitter {'revenue': 11, 'cost': 24, 'ROI': -54.17}\n"
     ]
    }
   ],
   "source": [
    "results = {\n",
    "'vk': {'revenue': 103, 'cost': 98},\n",
    "'yandex': {'revenue': 179, 'cost': 153},\n",
    "'facebook': {'revenue': 103, 'cost': 110},\n",
    "'adwords': {'revenue': 35, 'cost': 34},\n",
    "'twitter': {'revenue': 11, 'cost': 24},\n",
    "}\n",
    "\n",
    "for key, value in results.items():\n",
    "        value['ROI'] = round(((value['revenue'] / value['cost']) - 1)*100 , 2)\n",
    "        print(key, value)"
   ]
  },
  {
   "cell_type": "markdown",
   "metadata": {},
   "source": [
    "## 1"
   ]
  },
  {
   "cell_type": "code",
   "execution_count": null,
   "metadata": {},
   "outputs": [],
   "source": [
    "ids = {'user_1': [213, 213, 213, 15, 213],\n",
    "'user_2': [54, 54, 119, 119, 119],\n",
    "'user_3': [213, 98, 98, 35]}\n",
    "\n",
    "all_lists = []\n",
    "\n",
    "def unikalfromdict(item):\n",
    "    for key,value in ids.items():\n",
    "        new_lis = (list(set(value)))\n",
    "        for j in new_lis:\n",
    "            all_lists.append(j)\n",
    "        #all_lists[] =  new_lis\n",
    "    print(list(set(all_lists)))\n",
    "        \n",
    "\n",
    "new = unikalfromdict(ids)\n"
   ]
  },
  {
   "cell_type": "markdown",
   "metadata": {},
   "source": [
    "## 2"
   ]
  },
  {
   "cell_type": "code",
   "execution_count": 69,
   "metadata": {},
   "outputs": [
    {
     "name": "stdout",
     "output_type": "stream",
     "text": [
      "Поисковых запросов, содержащих 9 слов(а): 25.0 %\n",
      "Поисковых запросов, содержащих 5 слов(а): 50.0 %\n",
      "Поисковых запросов, содержащих 7 слов(а): 25.0 %\n"
     ]
    }
   ],
   "source": [
    "queries = [\n",
    "'смотреть сериалы h h онлайн',\n",
    "'сериалы про спор 213 т',\n",
    "'сериалы про сfsda afd df fdaf пор 213 т',\n",
    "'сериалы про  df fdaf пор 213 т',\n",
    "]\n",
    "count_lines_in_queries = len(queries) #count lines in queries\n",
    "count_words_in_lines = [len(line.split()) for line in queries] #count words in all lines\n",
    "count_unical_kolvo = (set(count_symbols_in_lines)) # Unical numbers in word in count_symbols_in_lines\n",
    "\n",
    "for i in count_unical_kolvo:\n",
    "    repeat_count = count_words_in_lines.count(i) # repeat count word with == count of words\n",
    "    print(\"Поисковых запросов, содержащих\", i, \"слов(а):\", round(repeat_count/count_lines_in_queries*100,2),\"%\")"
   ]
  }
 ],
 "metadata": {
  "kernelspec": {
   "display_name": "Python 3",
   "language": "python",
   "name": "python3"
  },
  "language_info": {
   "codemirror_mode": {
    "name": "ipython",
    "version": 3
   },
   "file_extension": ".py",
   "mimetype": "text/x-python",
   "name": "python",
   "nbconvert_exporter": "python",
   "pygments_lexer": "ipython3",
   "version": "3.8.5"
  }
 },
 "nbformat": 4,
 "nbformat_minor": 4
}
