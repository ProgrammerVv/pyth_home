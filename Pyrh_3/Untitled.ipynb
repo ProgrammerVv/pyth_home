{
 "cells": [
  {
   "cell_type": "markdown",
   "metadata": {},
   "source": [
    "## 4"
   ]
  },
  {
   "cell_type": "code",
   "execution_count": null,
   "metadata": {},
   "outputs": [],
   "source": [
    "stats = {'facebook': 55, 'yandex': 115, 'vk': 120, 'google': 99, 'email': 42, 'ok': 98}\n",
    "\n",
    "list_stats = list(stats.items()) #init keys\n",
    "list_stats.sort(key=lambda i: i[1])\n",
    "print (list_stats[-1])\n"
   ]
  },
  {
   "cell_type": "markdown",
   "metadata": {},
   "source": [
    "Дана переменная, в которой хранится информация о затратах и доходе рекламных кампаний по различным источникам. Необходимо дополнить исходную структуру показателем ROI, который рассчитаем по формуле: (revenue / cost - 1) * 100\n",
    "\n",
    "Пример работы программы:\n",
    "\n",
    "results = {\n",
    "‘vk’: {‘revenue’: 103, ‘cost’: 98},\n",
    "‘yandex’: {‘revenue’: 179, ‘cost’: 153},\n",
    "‘facebook’: {‘revenue’: 103, ‘cost’: 110},\n",
    "‘adwords’: {‘revenue’: 35, ‘cost’: 34},\n",
    "‘twitter’: {‘revenue’: 11, ‘cost’: 24},\n",
    "}\n",
    "Результат:\n",
    "\n",
    "{‘adwords’: {‘ROI’: 2.94, ‘cost’: 34, ‘revenue’: 35},\n",
    "‘facebook’: {‘ROI’: -6.36, ‘cost’: 110, ‘revenue’: 103},\n",
    "‘twitter’: {‘ROI’: -54.17, ‘cost’: 24, ‘revenue’: 11},\n",
    "‘vk’: {‘ROI’: 5.1, ‘cost’: 98, ‘revenue’: 103},\n",
    "‘yandex’: {‘ROI’: 16.99, ‘cost’: 153, ‘revenue’: 179}}"
   ]
  },
  {
   "cell_type": "code",
   "execution_count": null,
   "metadata": {},
   "outputs": [],
   "source": [
    "results = {\n",
    "'vk': {'revenue': 103, 'cost': 98},\n",
    "'yandex': {'revenue': 179, 'cost': 153},\n",
    "'facebook': {'revenue': 103, 'cost': 110},\n",
    "'adwords': {'revenue': 35, 'cost': 34},\n",
    "'twitter': {'revenue': 11, 'cost': 24},\n",
    "}\n",
    "\n",
    "result_object = get_list_from_results[1][1]\n",
    "\n",
    "revenue = result_object['revenue'] # get revenue\n",
    "cost = result_object['cost'] # get cost\n",
    "\n",
    "ROI = (revenue / cost -1) * 100\n",
    "print(ROI)\n"
   ]
  },
  {
   "cell_type": "code",
   "execution_count": 14,
   "metadata": {},
   "outputs": [
    {
     "name": "stdout",
     "output_type": "stream",
     "text": [
      "vk {'revenue': 103, 'cost': 98, 'ROI': 5.1}\n",
      "yandex {'revenue': 179, 'cost': 153, 'ROI': 16.99}\n",
      "facebook {'revenue': 103, 'cost': 110, 'ROI': -6.36}\n",
      "adwords {'revenue': 35, 'cost': 34, 'ROI': 2.94}\n",
      "twitter {'revenue': 11, 'cost': 24, 'ROI': -54.17}\n"
     ]
    }
   ],
   "source": [
    "results = {\n",
    "'vk': {'revenue': 103, 'cost': 98},\n",
    "'yandex': {'revenue': 179, 'cost': 153},\n",
    "'facebook': {'revenue': 103, 'cost': 110},\n",
    "'adwords': {'revenue': 35, 'cost': 34},\n",
    "'twitter': {'revenue': 11, 'cost': 24},\n",
    "}\n",
    "\n",
    "\n",
    "for key, value in results.items():\n",
    "        value['ROI'] = round(((value['revenue'] / value['cost']) - 1)*100 , 2)\n",
    "        print(key, value)\n",
    "\n"
   ]
  },
  {
   "cell_type": "code",
   "execution_count": null,
   "metadata": {},
   "outputs": [],
   "source": []
  }
 ],
 "metadata": {
  "kernelspec": {
   "display_name": "Python 3",
   "language": "python",
   "name": "python3"
  },
  "language_info": {
   "codemirror_mode": {
    "name": "ipython",
    "version": 3
   },
   "file_extension": ".py",
   "mimetype": "text/x-python",
   "name": "python",
   "nbconvert_exporter": "python",
   "pygments_lexer": "ipython3",
   "version": "3.8.5"
  }
 },
 "nbformat": 4,
 "nbformat_minor": 4
}
