{
 "cells": [
  {
   "cell_type": "markdown",
   "metadata": {},
   "source": [
    "## Task 1"
   ]
  },
  {
   "cell_type": "code",
   "execution_count": null,
   "metadata": {
    "scrolled": true
   },
   "outputs": [],
   "source": [
    "phrase_1=str(input(\"Give your phrase number one\"))\n",
    "phrase_2=str(input(\"Give your phrase number two\"))\n",
    "\n",
    "phrase_1 = (len(phrase_1))\n",
    "phrase_2 = (len(phrase_2))\n",
    "\n",
    "if phrase_1 < phrase_2:\n",
    "    print ('Phrase number two is bigger')\n",
    "        \n",
    "if phrase_1 > phrase_2:\n",
    "    print ('Phrase number one is bigger')\n",
    "    \n",
    "if phrase_1 == phrase_2:\n",
    "    print ('They are equal') \n",
    "     \n"
   ]
  },
  {
   "cell_type": "markdown",
   "metadata": {},
   "source": [
    "### Task 2"
   ]
  },
  {
   "cell_type": "code",
   "execution_count": null,
   "metadata": {},
   "outputs": [],
   "source": [
    "year=int(input(\"Your year:\"))\n",
    "\n",
    "if year % 2 == 0:\n",
    "    print (\"Visokos\")\n",
    "\n",
    "else:\n",
    "    print (\"Not visokos\")"
   ]
  },
  {
   "cell_type": "markdown",
   "metadata": {},
   "source": [
    "## Task 3"
   ]
  },
  {
   "cell_type": "code",
   "execution_count": null,
   "metadata": {},
   "outputs": [],
   "source": [
    "\n",
    "UserDate=int(input(\"Your date of birth:\"))\n",
    "\n",
    "UserMonth=str(input(\"Your month of birth:\"))\n",
    "\n",
    "UserYear=int(input(\"Your year of birth:\"))\n",
    "\n",
    "if (UserDate>=21 and UserDate<=31 and UserMonth=='March') or ( UserMonth=='April' and UserDate>=1 and UserDate<=19):\n",
    "\n",
    "   print(\"Zodiac sign: Aries\")\n",
    "\n",
    "elif (UserDate>=20 and UserDate<=30 and UserMonth=='April') or ( UserMonth=='May' and UserDate>=1 and UserDate<=20):\n",
    "\n",
    "   print(\"Zodiac sign: Taurus\")\n",
    "\n",
    "elif (UserDate>=21 and UserDate<=31 and UserMonth=='May') or ( UserMonth=='June' and UserDate>=1 and UserDate<=21):\n",
    "\n",
    "   print(\"Zodiac sign: Gemini\")\n",
    "\n",
    "elif (UserDate>=22 and UserDate<=30 and UserMonth=='June') or ( UserMonth=='July' and UserDate>=1 and UserDate<=22):\n",
    "\n",
    "   print(\"Zodiac sign: Cancer\")\n",
    "\n",
    "elif (UserDate>=23 and UserDate<=31 and UserMonth=='July') or ( UserMonth=='August' and UserDate>=1 and UserDate<=22):\n",
    "\n",
    "   print(\"Zodiac sign: Leo\")\n",
    "\n",
    "elif (UserDate>=23 and UserDate<=31 and UserMonth=='August') or ( UserMonth=='September' and UserDate>=1 and UserDate<=22):\n",
    "\n",
    "   print(\"Zodiac sign: Virgo\")\n",
    "\n",
    "elif (UserDate>=23 and UserDate<=30 and UserMonth=='September') or ( UserMonth=='October' and UserDate>=1 and UserDate<=23):\n",
    "\n",
    "   print(\"Zodiac sign: Libra\")\n",
    "\n",
    "elif (UserDate>=24 and UserDate<=31 and UserMonth=='October') or ( UserMonth=='November' and UserDate>=1 and UserDate<=22):\n",
    "\n",
    "   print(\"Zodiac sign: Scorpio\")\n",
    "\n",
    "elif (UserDate>=23 and UserDate<=30 and UserMonth=='November') or ( UserMonth=='December' and UserDate>=1 and UserDate<=21):\n",
    "\n",
    "   print(\"Zodiac sign: Sagittarius\")\n",
    "\n",
    "elif (UserDate>=22 and UserDate<=31 and UserMonth=='December') or ( UserMonth=='January' and UserDate>=1 and UserDate<=20):\n",
    "\n",
    "   print(\"Zodiac sign: Capricorn\")\n",
    "\n",
    "elif (UserDate>=21 and UserDate<=31 and UserMonth=='January') or ( UserMonth=='February' and UserDate>=1 and UserDate<=18):\n",
    "\n",
    "   print(\"Zodiac sign: Aquarius\")\n",
    "\n",
    "elif (UserDate>=19 and UserDate<=29 and UserMonth=='February') or ( UserMonth=='March' and UserDate>=1 and UserDate<=20):\n",
    "\n",
    "   print(\"Zodiac sign: Pisces\")"
   ]
  },
  {
   "cell_type": "markdown",
   "metadata": {},
   "source": [
    "## Task 4"
   ]
  },
  {
   "cell_type": "code",
   "execution_count": null,
   "metadata": {},
   "outputs": [],
   "source": [
    "UserWidth =int(input(\"Width :\"))\n",
    "UserLength =int(input(\"Length :\"))\n",
    "UserHhight =int(input(\"Height :\"))\n",
    "\n",
    "if (UserWidth < 15 and UserLength < 15 and UserHhight <15):\n",
    "    print('Use the box №1')\n",
    "\n",
    "elif (UserLength > 200):\n",
    "    print('Use the box of ski')\n",
    "\n",
    "elif (UserWidth < 50 and UserLength < 50 and UserHhight < 50):\n",
    "    print('Use the box №2')\n",
    "\n",
    "else:\n",
    "    print('Use the box №3')\n",
    "\n",
    "\n"
   ]
  },
  {
   "cell_type": "code",
   "execution_count": null,
   "metadata": {},
   "outputs": [],
   "source": []
  }
 ],
 "metadata": {
  "kernelspec": {
   "display_name": "Python 3",
   "language": "python",
   "name": "python3"
  },
  "language_info": {
   "codemirror_mode": {
    "name": "ipython",
    "version": 3
   },
   "file_extension": ".py",
   "mimetype": "text/x-python",
   "name": "python",
   "nbconvert_exporter": "python",
   "pygments_lexer": "ipython3",
   "version": "3.8.5"
  }
 },
 "nbformat": 4,
 "nbformat_minor": 4
}
