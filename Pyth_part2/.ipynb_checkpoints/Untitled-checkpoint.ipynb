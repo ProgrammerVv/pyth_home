{
 "cells": [
  {
   "cell_type": "markdown",
   "metadata": {},
   "source": [
    "## 1"
   ]
  },
  {
   "cell_type": "code",
   "execution_count": null,
   "metadata": {
    "scrolled": true
   },
   "outputs": [],
   "source": [
    "any_word = (input(\"Any word: \")) #input\n",
    "convert_list = list(any_word) #Convert to list\n",
    "\n",
    "if (len(convert_list) % 2 ==0):\n",
    "    print (convert_list[int(len(convert_list) / 2) -1]);\n",
    "    print(convert_list[int(len(convert_list) / 2)]);\n",
    "   \n",
    "    \n",
    "elif (len(convert_list) % 2 !=0):\n",
    "    print(convert_list[int(len(convert_list) / 2)]);\n",
    "    \n",
    "\n"
   ]
  },
  {
   "cell_type": "markdown",
   "metadata": {},
   "source": [
    "## 2"
   ]
  },
  {
   "cell_type": "code",
   "execution_count": null,
   "metadata": {},
   "outputs": [],
   "source": [
    "print(\"Put any number for sum, if u want to stop and take result = wrtie RES\");\n",
    "any_num = 0;\n",
    "i = 0;\n",
    "\n",
    "new_entered_list = [0];\n",
    "\n",
    "while any_num != \"RES\":\n",
    "    any_num = (input(\"Your number: \")) #input\n",
    "    new_entered_list.append(any_num);\n",
    "    if (any_num == \"RES\"):\n",
    "            break\n",
    "del(new_entered_list[-1]); #Delete RES from list\n",
    "\n",
    "for element in new_entered_list: #count here\n",
    "    element = int(element);\n",
    "    i = element + i;\n",
    "    \n",
    "print(i);"
   ]
  },
  {
   "cell_type": "markdown",
   "metadata": {},
   "source": [
    "## 3"
   ]
  },
  {
   "cell_type": "code",
   "execution_count": null,
   "metadata": {
    "scrolled": true
   },
   "outputs": [],
   "source": [
    "print(\"Put girls names in this list, if u want to stop and take result = wrtie RES\");\n",
    "\n",
    "girl_name = 0;\n",
    "boy_name = 0;\n",
    "i = 0;\n",
    "\n",
    "girls_names_list = [];\n",
    "boys_names_list = [];\n",
    "\n",
    "#input girls names\n",
    "while girl_name != \"RES\":\n",
    "    girl_name = (input (\"Girl name \"));\n",
    "    girls_names_list.append(girl_name);\n",
    "    if (girl_name == \"RES\"):\n",
    "            break\n",
    "del(girls_names_list[-1]); #Delete RES from list\n",
    "\n",
    "#input boys names\n",
    "while boy_name != \"RES\":\n",
    "    boy_name = (input (\"Boy name \"));\n",
    "    boys_names_list.append(boy_name);\n",
    "    if (boy_name == \"RES\"):\n",
    "            break\n",
    "del(boys_names_list[-1]); #Delete RES from list\n",
    "\n",
    "#print (sorted(girls_names_list)); for checking sort\n",
    "#print (sorted(boys_names_list)); for checking sort\n",
    "\n",
    "sort_girls_names_list =  [sorted(girls_names_list)];\n",
    "sort_boys_names_list = [sorted(boys_names_list)];\n",
    "\n",
    "dict_final = {} #dict for lists\n",
    "dict_final = dict(Girl_Name = sort_girls_names_list[-1], Boy_Name = sort_boys_names_list[-1]);\n",
    "\n",
    "keys = list(dict_final.keys())\n",
    "\n",
    "dict_values_girls = dict_final[\"Girl_Name\"]; #Get values Girl_Name\n",
    "dict_values_boys = dict_final[\"Boy_Name\"]; #Get values Boy_Name\n",
    "\n",
    "print ( \"_______________ \");\n",
    "print ( \"RESULTS \");\n",
    "print ( \"_______________ \");\n",
    "\n",
    "\n",
    "ostatok =  (len(dict_values_girls)) - (len(dict_values_boys))\n",
    "if (ostatok == 0):\n",
    "    for value in dict_values_girls:\n",
    "        print (dict_values_girls[i] + \" and \" + dict_values_boys[i]);\n",
    "        i = i + 1;\n",
    "elif (ostatok != 0):\n",
    "    print (\"Никого знакомить не будем! Пары есть не у всех!\");\n",
    "    \n",
    "\n",
    "    \n",
    "# Это я не внимательно прочитал условие задачи и вывел вместо \"Никого знакомить не будем! Пары есть не у всех\" \n",
    "# Список тех кто остался без пар, и соотношение тех у кого они есть . Но у меня тут есть проблемка в коде. почему-то ошибка вылетает\n",
    "# index out of range' причем как я цикл не останавливал все равно она есть, можете подсказать в  чем дело?\n",
    "   # if (ostatok > 0):\n",
    "        #print(\"Boys < Girls\");\n",
    "       # print (\"No matching: \"); # No matching\n",
    "       # print (dict_values_girls[(ostatok * -1):]);\n",
    "      #  for value in (dict_values_girls[(ostatok * -1):]):\n",
    "        #    print (dict_values_girls[i] + \" and \" + dict_values_boys[i]);\n",
    "         #   i = i + 1;\n",
    "            #if (i == len(dict_values_girls[(ostatok * -1):])-1):\n",
    "                #break #for range \n",
    "            \n",
    "   # if (ostatok < 0):\n",
    "    #    #print(\"Boys > Girls\");\n",
    "    #    print (\"No matching: \"); # No matching\n",
    "      #  print (dict_values_boys[(ostatok * -1):]);\n",
    "      #  for value in (dict_values_boys[(ostatok * -1):]):\n",
    "       #     print (dict_values_girls[i] + \" and \" + dict_values_boys[i]);\n",
    "        #    i = i + 1;\n",
    "            #if (i == len(dict_values_boys[(ostatok * -1):])-1):\n",
    "              #  break #for range \n",
    "              "
   ]
  },
  {
   "cell_type": "markdown",
   "metadata": {},
   "source": [
    "#### ---"
   ]
  },
  {
   "cell_type": "code",
   "execution_count": 52,
   "metadata": {},
   "outputs": [
    {
     "name": "stdout",
     "output_type": "stream",
     "text": [
      "Country: 1\n",
      "Temperature : 2\n",
      "Temperature : 3\n",
      "Temperature : N\n",
      "3\n"
     ]
    }
   ],
   "source": [
    "#answer = 0; # for add country\n",
    "import statistics\n",
    "\n",
    "dict_temp = 0;\n",
    "\n",
    "\n",
    "temp_value = 0;\n",
    "temperatures = [];\n",
    "country = 0;\n",
    "dict_temp = {};\n",
    "i = 0;\n",
    "\n",
    "country = (input(\"Country: \"));\n",
    "while temp_value !=\"N\":\n",
    "    temp_value = input( \"Temperature : \");\n",
    "    \n",
    "    temperatures.append(temp_value);\n",
    "    if (temp_value == \"N\"):\n",
    "         break\n",
    "#del(temperatures[-1]);\n",
    "\n",
    "dict_temp = {'Country': country, 'Temperatures': temperatures}\n",
    "\n",
    "#int_dictionary = int(temperatures);\n",
    "#print (int_dictionary);\n",
    "element_in_temperatures = 0;\n",
    "\n",
    "while temperatures[i] !=\"N\":\n",
    "    i == 0;\n",
    "    element_in_temperatures = [(int(temperatures[i]))];\n",
    "    #print (element_in_temperatures);\n",
    "    i = i + 1;\n",
    "    if (element_in_temperatures == \"N\"):\n",
    "        break\n",
    "    \n",
    "print(statistics.mean(element_in_temperatures));\n"
   ]
  },
  {
   "cell_type": "markdown",
   "metadata": {},
   "source": [
    "# 3## 3## 3\n",
    "## "
   ]
  },
  {
   "cell_type": "markdown",
   "metadata": {},
   "source": [
    "# "
   ]
  }
 ],
 "metadata": {
  "kernelspec": {
   "display_name": "Python 3",
   "language": "python",
   "name": "python3"
  },
  "language_info": {
   "codemirror_mode": {
    "name": "ipython",
    "version": 3
   },
   "file_extension": ".py",
   "mimetype": "text/x-python",
   "name": "python",
   "nbconvert_exporter": "python",
   "pygments_lexer": "ipython3",
   "version": "3.8.5"
  }
 },
 "nbformat": 4,
 "nbformat_minor": 4
}
