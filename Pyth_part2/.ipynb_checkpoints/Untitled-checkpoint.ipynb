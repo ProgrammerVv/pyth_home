{
 "cells": [
  {
   "cell_type": "markdown",
   "metadata": {},
   "source": [
    "## 1"
   ]
  },
  {
   "cell_type": "code",
   "execution_count": null,
   "metadata": {
    "scrolled": true
   },
   "outputs": [],
   "source": [
    "any_word = (input(\"Any word: \")) #input\n",
    "convert_list = list(any_word) #Convert to list\n",
    "\n",
    "if (len(convert_list) % 2 ==0):\n",
    "    print (convert_list[int(len(convert_list) / 2) -1]);\n",
    "    print(convert_list[int(len(convert_list) / 2)]);\n",
    "   \n",
    "    \n",
    "elif (len(convert_list) % 2 !=0):\n",
    "    print(convert_list[int(len(convert_list) / 2)]);\n",
    "    \n",
    "\n"
   ]
  },
  {
   "cell_type": "markdown",
   "metadata": {},
   "source": [
    "## 2"
   ]
  },
  {
   "cell_type": "code",
   "execution_count": 112,
   "metadata": {},
   "outputs": [
    {
     "name": "stdout",
     "output_type": "stream",
     "text": [
      "Put any namber for sum, if u want to stop and take result = wrtie RES\n",
      "Your number: 2\n",
      "Your number: 2\n",
      "Your number: 1\n",
      "Your number: RES\n",
      "5\n"
     ]
    }
   ],
   "source": [
    "print(\"Put any number for sum, if u want to stop and take result = wrtie RES\");\n",
    "any_num = 0;\n",
    "i = 0;\n",
    "\n",
    "new_entered_list = [0];\n",
    "\n",
    "while any_num != \"RES\":\n",
    "    any_num = (input(\"Your number: \")) #input\n",
    "    new_entered_list.append(any_num);\n",
    "    if (any_num == \"RES\"):\n",
    "            break\n",
    "del(new_entered_list[-1]); #Delete RES from list\n",
    "\n",
    "for element in new_entered_list: #count here\n",
    "    element = int(element);\n",
    "    i = element + i;\n",
    "    \n",
    "print(i);"
   ]
  },
  {
   "cell_type": "markdown",
   "metadata": {},
   "source": [
    "## 3"
   ]
  },
  {
   "cell_type": "code",
   "execution_count": 154,
   "metadata": {},
   "outputs": [
    {
     "ename": "SyntaxError",
     "evalue": "invalid syntax (<ipython-input-154-3d13723c65ac>, line 7)",
     "output_type": "error",
     "traceback": [
      "\u001b[1;36m  File \u001b[1;32m\"<ipython-input-154-3d13723c65ac>\"\u001b[1;36m, line \u001b[1;32m7\u001b[0m\n\u001b[1;33m    girls_names_list = str [];\u001b[0m\n\u001b[1;37m                            ^\u001b[0m\n\u001b[1;31mSyntaxError\u001b[0m\u001b[1;31m:\u001b[0m invalid syntax\n"
     ]
    }
   ],
   "source": [
    "print(\" Put girls names in this list, if u want to stop and take result = wrtie RES\");\n",
    "\n",
    "girl_name = 0;\n",
    "boy_name = 0;\n",
    "\n",
    "\n",
    "girls_names_list = [];\n",
    "boys_names_list = [];\n",
    "\n",
    "#input girls names\n",
    "while girl_name != \"RES\":\n",
    "    girl_name = (input (\"Girl name \"));\n",
    "    girls_names_list.append(girl_name);\n",
    "    if (girl_name == \"RES\"):\n",
    "            break\n",
    "del(girls_names_list[-1]); #Delete RES from list\n",
    "\n",
    "#input boys names\n",
    "while boy_name != \"RES\":\n",
    "    boy_name = (input (\"Boy name \"));\n",
    "    boys_names_list.append(boy_name);\n",
    "    if (boy_name == \"RES\"):\n",
    "            break\n",
    "del(boys_names_list[-1]); #Delete RES from list\n",
    "\n",
    "sorted(girls_names_list);\n",
    "\n",
    "#sorted(girls_names_list);\n",
    "#print (sorted(boys_names_list));\n",
    "#print(boys_names_list);"
   ]
  },
  {
   "cell_type": "code",
   "execution_count": null,
   "metadata": {},
   "outputs": [],
   "source": []
  },
  {
   "cell_type": "code",
   "execution_count": null,
   "metadata": {},
   "outputs": [],
   "source": []
  }
 ],
 "metadata": {
  "kernelspec": {
   "display_name": "Python 3",
   "language": "python",
   "name": "python3"
  },
  "language_info": {
   "codemirror_mode": {
    "name": "ipython",
    "version": 3
   },
   "file_extension": ".py",
   "mimetype": "text/x-python",
   "name": "python",
   "nbconvert_exporter": "python",
   "pygments_lexer": "ipython3",
   "version": "3.8.5"
  }
 },
 "nbformat": 4,
 "nbformat_minor": 4
}
