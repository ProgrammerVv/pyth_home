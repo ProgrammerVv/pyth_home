{
 "cells": [
  {
   "cell_type": "markdown",
   "metadata": {},
   "source": [
    "## 1"
   ]
  },
  {
   "cell_type": "code",
   "execution_count": null,
   "metadata": {
    "scrolled": true
   },
   "outputs": [],
   "source": [
    "any_word = (input(\"Any word: \")) #input\n",
    "convert_list = list(any_word) #Convert to list\n",
    "\n",
    "if (len(convert_list) % 2 ==0):\n",
    "    print (convert_list[int(len(convert_list) / 2) -1]);\n",
    "    print(convert_list[int(len(convert_list) / 2)]);\n",
    "   \n",
    "    \n",
    "elif (len(convert_list) % 2 !=0):\n",
    "    print(convert_list[int(len(convert_list) / 2)]);\n",
    "    \n",
    "\n"
   ]
  },
  {
   "cell_type": "markdown",
   "metadata": {},
   "source": [
    "## 2"
   ]
  },
  {
   "cell_type": "code",
   "execution_count": null,
   "metadata": {},
   "outputs": [],
   "source": [
    "print(\"Put any number for sum, if u want to stop and take result = wrtie RES\");\n",
    "any_num = 0;\n",
    "i = 0;\n",
    "\n",
    "new_entered_list = [0];\n",
    "\n",
    "while any_num != \"RES\":\n",
    "    any_num = (input(\"Your number: \")) #input\n",
    "    new_entered_list.append(any_num);\n",
    "    if (any_num == \"RES\"):\n",
    "            break\n",
    "del(new_entered_list[-1]); #Delete RES from list\n",
    "\n",
    "for element in new_entered_list: #count here\n",
    "    element = int(element);\n",
    "    i = element + i;\n",
    "    \n",
    "print(i);"
   ]
  },
  {
   "cell_type": "markdown",
   "metadata": {},
   "source": [
    "## 3"
   ]
  },
  {
   "cell_type": "code",
   "execution_count": 1,
   "metadata": {
    "scrolled": true
   },
   "outputs": [
    {
     "name": "stdout",
     "output_type": "stream",
     "text": [
      "Put girls names in this list, if u want to stop and take result = wrtie RES\n",
      "Girl name 1\n",
      "Girl name 2\n",
      "Girl name 3\n",
      "Girl name RES\n",
      "Boy name 1\n",
      "Boy name 2\n",
      "Boy name 3\n",
      "Boy name RES\n",
      "_______________ \n",
      "RESULTS \n",
      "_______________ \n",
      "1 and 1\n",
      "2 and 2\n",
      "3 and 3\n"
     ]
    }
   ],
   "source": [
    "print(\"Put girls names in this list, if u want to stop and take result = wrtie RES\");\n",
    "\n",
    "girl_name = 0;\n",
    "boy_name = 0;\n",
    "i = 0;\n",
    "\n",
    "girls_names_list = [];\n",
    "boys_names_list = [];\n",
    "\n",
    "#input girls names\n",
    "while girl_name != \"RES\":\n",
    "    girl_name = (input (\"Girl name \"));\n",
    "    girls_names_list.append(girl_name);\n",
    "    if (girl_name == \"RES\"):\n",
    "            break\n",
    "del(girls_names_list[-1]); #Delete RES from list\n",
    "\n",
    "#input boys names\n",
    "while boy_name != \"RES\":\n",
    "    boy_name = (input (\"Boy name \"));\n",
    "    boys_names_list.append(boy_name);\n",
    "    if (boy_name == \"RES\"):\n",
    "            break\n",
    "del(boys_names_list[-1]); #Delete RES from list\n",
    "\n",
    "#print (sorted(girls_names_list)); for checking sort\n",
    "#print (sorted(boys_names_list)); for checking sort\n",
    "\n",
    "sort_girls_names_list =  [sorted(girls_names_list)];\n",
    "sort_boys_names_list = [sorted(boys_names_list)];\n",
    "\n",
    "dict_final = {} #dict for lists\n",
    "dict_final = dict(Girl_Name = sort_girls_names_list[-1], Boy_Name = sort_boys_names_list[-1]);\n",
    "\n",
    "keys = list(dict_final.keys())\n",
    "\n",
    "dict_values_girls = dict_final[\"Girl_Name\"]; #Get values Girl_Name\n",
    "dict_values_boys = dict_final[\"Boy_Name\"]; #Get values Boy_Name\n",
    "\n",
    "print ( \"_______________ \");\n",
    "print ( \"RESULTS \");\n",
    "print ( \"_______________ \");\n",
    "\n",
    "\n",
    "ostatok =  (len(dict_values_girls)) - (len(dict_values_boys))\n",
    "if (ostatok == 0):\n",
    "    for value in dict_values_girls:\n",
    "        print (dict_values_girls[i] + \" and \" + dict_values_boys[i]);\n",
    "        i = i + 1;\n",
    "elif (ostatok != 0):\n",
    "    if (ostatok > 0):\n",
    "        #print(\"Boys < Girls\");\n",
    "        print (\"No matching: \"); # No matching\n",
    "        print (dict_values_girls[(ostatok * -1):]);\n",
    "        for value in (dict_values_girls[(ostatok * -1):]):\n",
    "            print (dict_values_girls[i] + \" and \" + dict_values_boys[i]);\n",
    "            i = i + 1;\n",
    "            #if (i == len(dict_values_girls[(ostatok * -1):])-1):\n",
    "                #break #for range \n",
    "            \n",
    "    if (ostatok < 0):\n",
    "        #print(\"Boys > Girls\");\n",
    "        print (\"No matching: \"); # No matching\n",
    "        print (dict_values_boys[(ostatok * -1):]);\n",
    "        for value in (dict_values_boys[(ostatok * -1):]):\n",
    "            print (dict_values_girls[i] + \" and \" + dict_values_boys[i]);\n",
    "            i = i + 1;\n",
    "            #if (i == len(dict_values_boys[(ostatok * -1):])-1):\n",
    "              #  break #for range \n",
    "              "
   ]
  },
  {
   "cell_type": "markdown",
   "metadata": {},
   "source": [
    "## 4"
   ]
  },
  {
   "cell_type": "markdown",
   "metadata": {},
   "source": [
    "2# "
   ]
  }
 ],
 "metadata": {
  "kernelspec": {
   "display_name": "Python 3",
   "language": "python",
   "name": "python3"
  },
  "language_info": {
   "codemirror_mode": {
    "name": "ipython",
    "version": 3
   },
   "file_extension": ".py",
   "mimetype": "text/x-python",
   "name": "python",
   "nbconvert_exporter": "python",
   "pygments_lexer": "ipython3",
   "version": "3.8.5"
  }
 },
 "nbformat": 4,
 "nbformat_minor": 4
}
