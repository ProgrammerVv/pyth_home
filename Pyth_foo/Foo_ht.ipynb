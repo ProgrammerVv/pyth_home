{
 "cells": [
  {
   "cell_type": "code",
   "execution_count": 17,
   "metadata": {},
   "outputs": [
    {
     "name": "stdout",
     "output_type": "stream",
     "text": [
      "{'type': 'invoice', 'number': '11-2', 'name': 'Геннадий Покемонов'}\n"
     ]
    }
   ],
   "source": [
    "documents = [ {'type': 'passport', 'number': '2207 876234', 'name': 'Василий Гупкин'}, \n",
    "             {'type': 'invoice', 'number': '11-2', 'name': 'Геннадий Покемонов'}, \n",
    "             {'type': 'insurance', 'number': '10006', 'name': 'Аристарх Павлов'} ]\n",
    "\n",
    "directories = { '1': ['2207 876234', '11-2'], '2': ['10006'], '3': [] }\n",
    "\n",
    "print(documents[1])"
   ]
  },
  {
   "cell_type": "code",
   "execution_count": 18,
   "metadata": {},
   "outputs": [],
   "source": [
    "#Functions\n",
    "\n",
    "def CmdLine():\n",
    "    \"\"\"\n",
    "    Comand Line Logic\n",
    "    \"\"\"\n",
    "    user_cmd = (input(\"Get the command: \")) \n",
    "    if (user_cmd == \"h\"):\n",
    "        ComandHelper()\n",
    "    if (user_cmd == \"p\"):\n",
    "        DocOwner()\n",
    "    if (user_cmd == \"add\"):\n",
    "        DocAdd()\n",
    "    else:\n",
    "        print(\"Command not found, try again or use command h for help\")\n",
    "        user_cmd = (input(\"Get the command: \")) # Сюда дописать бесконечный цикл трай эгжин если команда не найдена\n",
    "        \n",
    "def DocAdd():\n",
    "    \"\"\"\n",
    "    Add any information in documents\n",
    "    \"\"\"\n",
    "    new_info = {}\n",
    "    user_cmd = 0\n",
    "    i = 0\n",
    "    while i != 'q':\n",
    "        AnyKey = input('Type of info: ')\n",
    "        AnyValue = input('info: ')\n",
    "        new_info[AnyKey] = AnyValue\n",
    "        i+=1\n",
    "        user_cmd = input(\"Continue? (Y/N)\")\n",
    "        documents.append(new_info)\n",
    "        #print(documents) - check \n",
    "        if user_cmd == \"Y\":\n",
    "            continue\n",
    "        else: \n",
    "            break\n",
    "\n",
    "def ComandHelper():\n",
    "\n",
    "    \"\"\"\n",
    "    Comand Helper\n",
    "    \"\"\"\n",
    "    print(\" p - comand for find the owner of d\")\n",
    "    print(\" add - use for add new informations\")\n",
    "    print(\" q - exit from add\")\n",
    "         \n",
    "def DocOwner():\n",
    "    \"\"\"\n",
    "    Find the docs owner\n",
    "    \"\"\"\n",
    "    Doc_number = (input(\"Input the doc number without s : \"))\n",
    "    print ('finded')\n",
    "    #Проверить наличие определенного ключа можно при помощи операции in. Для этого достаточно вывести результат ее выполнения для словаря по имени a.\n",
    "\n",
    "    #a = {1: \"one\", 2: \"two\", 3: \"three\"}\n",
    "    #print(2 in a)\n",
    "    #print(4 in a)\n",
    "\n",
    "    #True\n",
    "    #False\n",
    "        #https://all-python.ru/osnovy/slovari.html"
   ]
  },
  {
   "cell_type": "code",
   "execution_count": 19,
   "metadata": {},
   "outputs": [],
   "source": [
    "#Main fuction\n",
    "\n",
    "def main():\n",
    "    CmdLine() # foo with cmd logic\n"
   ]
  },
  {
   "cell_type": "code",
   "execution_count": 20,
   "metadata": {},
   "outputs": [
    {
     "name": "stdout",
     "output_type": "stream",
     "text": [
      "Get the command: add\n",
      "Type of info: 1\n",
      "info: 1\n",
      "Continue? (Y/N)Y\n",
      "[{'type': 'passport', 'number': '2207 876234', 'name': 'Василий Гупкин'}, {'type': 'invoice', 'number': '11-2', 'name': 'Геннадий Покемонов'}, {'type': 'insurance', 'number': '10006', 'name': 'Аристарх Павлов'}, {'1': '1'}]\n",
      "Type of info: per\n",
      "info: s\n",
      "Continue? (Y/N)Y\n",
      "[{'type': 'passport', 'number': '2207 876234', 'name': 'Василий Гупкин'}, {'type': 'invoice', 'number': '11-2', 'name': 'Геннадий Покемонов'}, {'type': 'insurance', 'number': '10006', 'name': 'Аристарх Павлов'}, {'1': '1', 'per': 's'}, {'1': '1', 'per': 's'}]\n",
      "Type of info: N\n",
      "info: x\n",
      "Continue? (Y/N)N\n",
      "[{'type': 'passport', 'number': '2207 876234', 'name': 'Василий Гупкин'}, {'type': 'invoice', 'number': '11-2', 'name': 'Геннадий Покемонов'}, {'type': 'insurance', 'number': '10006', 'name': 'Аристарх Павлов'}, {'1': '1', 'per': 's', 'N': 'x'}, {'1': '1', 'per': 's', 'N': 'x'}, {'1': '1', 'per': 's', 'N': 'x'}]\n"
     ]
    }
   ],
   "source": [
    "#Start here\n",
    "main()"
   ]
  },
  {
   "cell_type": "code",
   "execution_count": null,
   "metadata": {},
   "outputs": [],
   "source": []
  }
 ],
 "metadata": {
  "kernelspec": {
   "display_name": "Python 3",
   "language": "python",
   "name": "python3"
  },
  "language_info": {
   "codemirror_mode": {
    "name": "ipython",
    "version": 3
   },
   "file_extension": ".py",
   "mimetype": "text/x-python",
   "name": "python",
   "nbconvert_exporter": "python",
   "pygments_lexer": "ipython3",
   "version": "3.8.5"
  }
 },
 "nbformat": 4,
 "nbformat_minor": 4
}
